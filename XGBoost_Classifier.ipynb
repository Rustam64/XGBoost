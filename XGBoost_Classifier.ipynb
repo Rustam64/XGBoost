{
  "nbformat": 4,
  "nbformat_minor": 0,
  "metadata": {
    "colab": {
      "provenance": [],
      "authorship_tag": "ABX9TyO2fBnQUI5g5HJj7i/MZtfF",
      "include_colab_link": true
    },
    "kernelspec": {
      "name": "python3",
      "display_name": "Python 3"
    },
    "language_info": {
      "name": "python"
    }
  },
  "cells": [
    {
      "cell_type": "markdown",
      "metadata": {
        "id": "view-in-github",
        "colab_type": "text"
      },
      "source": [
        "<a href=\"https://colab.research.google.com/github/Rustam64/XGBoost/blob/main/XGBoost_Classifier.ipynb\" target=\"_parent\"><img src=\"https://colab.research.google.com/assets/colab-badge.svg\" alt=\"Open In Colab\"/></a>"
      ]
    },
    {
      "cell_type": "code",
      "execution_count": null,
      "metadata": {
        "colab": {
          "base_uri": "https://localhost:8080/"
        },
        "id": "pvlrooIMncCW",
        "outputId": "185cd5ff-6e83-450d-d844-3b0c07534f62"
      },
      "outputs": [
        {
          "output_type": "stream",
          "name": "stdout",
          "text": [
            "   Population density  Distance to street  Rainfall  Temperature  Wind speed  \\\n",
            "0               0.000             276.586   265.723      17.2590     2.57702   \n",
            "1             747.844               0.000   263.802      17.2885     2.60164   \n",
            "2             403.589              30.000   262.844      17.3055     2.61468   \n",
            "3             594.578               0.000   272.966      17.2089     2.49355   \n",
            "4               0.000             323.110   269.917      17.2274     2.53074   \n",
            "\n",
            "   Wind direction  Distance to industrial  Humidity  Elevation  \\\n",
            "0         243.128                 152.971   37.1871       1106   \n",
            "1         242.609                 123.693   36.9740       1110   \n",
            "2         242.054                 247.386   36.8323       1112   \n",
            "3         239.587                 228.473   37.2039       1111   \n",
            "4         241.033                  30.000   37.1938       1109   \n",
            "\n",
            "   Traffic volume  Land surface temperature (LST)  \\\n",
            "0        0.000000                         61.1812   \n",
            "1        0.000000                         60.1474   \n",
            "2        0.000000                         59.8114   \n",
            "3       20.375027                         59.8390   \n",
            "4        0.000000                         60.4878   \n",
            "\n",
            "   Normalized difference vegetation index (NDVI)  Distance to transportation  \\\n",
            "0                                       0.105923                  335.410187   \n",
            "1                                       0.056513                  107.703293   \n",
            "2                                       0.021300                  254.950974   \n",
            "3                                       0.073738                  463.896545   \n",
            "4                                       0.067625                  328.937683   \n",
            "\n",
            "   PM2.5  \n",
            "0      1  \n",
            "1      1  \n",
            "2      1  \n",
            "3      1  \n",
            "4      1  \n"
          ]
        }
      ],
      "source": [
        "import pandas as pd\n",
        "from xgboost import XGBClassifier\n",
        "from sklearn.model_selection import train_test_split\n",
        "from sklearn.metrics import accuracy_score, classification_report\n",
        "\n",
        "# Load the dataset\n",
        "df = pd.read_csv(\"PM2.5.csv\")\n",
        "print(df.head())"
      ]
    },
    {
      "cell_type": "code",
      "source": [
        "X = df.drop(columns=[\"PM2.5\"])\n",
        "y = df[\"PM2.5\"]\n",
        "\n",
        "X_train, X_test, y_train, y_test = train_test_split(X, y, test_size=0.2, random_state=42, stratify=y)"
      ],
      "metadata": {
        "id": "bE7riXzGnvbB"
      },
      "execution_count": null,
      "outputs": []
    },
    {
      "cell_type": "code",
      "source": [
        "# XGBoost Classifier\n",
        "model = XGBClassifier(\n",
        "    n_estimators=200,\n",
        "    max_depth=6,\n",
        "    learning_rate=0.1,\n",
        "    subsample=0.5,\n",
        "    colsample_bytree=0.5,\n",
        "    eval_metric=\"logloss\"\n",
        ")"
      ],
      "metadata": {
        "id": "E20nuHPbn6Ma"
      },
      "execution_count": null,
      "outputs": []
    },
    {
      "cell_type": "code",
      "source": [
        "# Train\n",
        "model.fit(X_train, y_train)\n",
        "\n",
        "# Predict\n",
        "y_pred = model.predict(X_test)\n",
        "\n",
        "# Evaluate\n",
        "print(\"Accuracy:\", accuracy_score(y_test, y_pred))\n",
        "print(classification_report(y_test, y_pred))"
      ],
      "metadata": {
        "colab": {
          "base_uri": "https://localhost:8080/"
        },
        "id": "eUCmCeRjoAXd",
        "outputId": "9fd827fa-06b5-4c61-c129-b4ef49b630eb"
      },
      "execution_count": null,
      "outputs": [
        {
          "output_type": "stream",
          "name": "stdout",
          "text": [
            "Accuracy: 0.9295774647887324\n",
            "              precision    recall  f1-score   support\n",
            "\n",
            "           0       0.92      0.94      0.93        36\n",
            "           1       0.94      0.91      0.93        35\n",
            "\n",
            "    accuracy                           0.93        71\n",
            "   macro avg       0.93      0.93      0.93        71\n",
            "weighted avg       0.93      0.93      0.93        71\n",
            "\n"
          ]
        }
      ]
    }
  ]
}